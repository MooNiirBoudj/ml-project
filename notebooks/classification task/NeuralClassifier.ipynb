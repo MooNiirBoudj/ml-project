{
 "cells": [
  {
   "cell_type": "markdown",
   "metadata": {},
   "source": [
    "# Neural-Network Classification Task On \"Amazon Employee Access\" Dataset:"
   ]
  },
  {
   "cell_type": "markdown",
   "metadata": {},
   "source": [
    "---"
   ]
  },
  {
   "cell_type": "markdown",
   "metadata": {},
   "source": [
    "---"
   ]
  },
  {
   "cell_type": "code",
   "execution_count": 264,
   "metadata": {},
   "outputs": [],
   "source": [
    "import pandas as pd\n",
    "import torch\n",
    "import torch.nn as nn\n",
    "import torch.nn.functional as F\n",
    "from sklearn.model_selection import train_test_split\n",
    "from sklearn.metrics import f1_score\n",
    "from matplotlib import pyplot as plt"
   ]
  },
  {
   "cell_type": "code",
   "execution_count": 62,
   "metadata": {},
   "outputs": [
    {
     "name": "stdout",
     "output_type": "stream",
     "text": [
      "Number of instances with target value 0:  1897\n",
      "Number of instances with target value 1:  30872\n",
      "Total Number of instances and features:  (32769, 10)\n"
     ]
    }
   ],
   "source": [
    "df = pd.read_csv('Data/amazon-employee-access-challenge(original)/train.csv')\n",
    "\n",
    "print(\"Number of instances with target value 0: \", df[df[\"ACTION\"] == 0][\"ACTION\"].shape[0])\n",
    "print(\"Number of instances with target value 1: \", df[df[\"ACTION\"] == 1][\"ACTION\"].shape[0])\n",
    "print(\"Total Number of instances and features: \", df.shape)\n"
   ]
  },
  {
   "cell_type": "markdown",
   "metadata": {},
   "source": [
    "So we notice that our data is highly imbalenced (only 5.8% are of class 0) and we need to take that into considiration when splitting."
   ]
  },
  {
   "cell_type": "code",
   "execution_count": 63,
   "metadata": {},
   "outputs": [
    {
     "data": {
      "text/html": [
       "<div>\n",
       "<style scoped>\n",
       "    .dataframe tbody tr th:only-of-type {\n",
       "        vertical-align: middle;\n",
       "    }\n",
       "\n",
       "    .dataframe tbody tr th {\n",
       "        vertical-align: top;\n",
       "    }\n",
       "\n",
       "    .dataframe thead th {\n",
       "        text-align: right;\n",
       "    }\n",
       "</style>\n",
       "<table border=\"1\" class=\"dataframe\">\n",
       "  <thead>\n",
       "    <tr style=\"text-align: right;\">\n",
       "      <th></th>\n",
       "      <th>ACTION</th>\n",
       "      <th>RESOURCE</th>\n",
       "      <th>MGR_ID</th>\n",
       "      <th>ROLE_ROLLUP_1</th>\n",
       "      <th>ROLE_ROLLUP_2</th>\n",
       "      <th>ROLE_DEPTNAME</th>\n",
       "      <th>ROLE_TITLE</th>\n",
       "      <th>ROLE_FAMILY_DESC</th>\n",
       "      <th>ROLE_FAMILY</th>\n",
       "      <th>ROLE_CODE</th>\n",
       "    </tr>\n",
       "  </thead>\n",
       "  <tbody>\n",
       "    <tr>\n",
       "      <th>0</th>\n",
       "      <td>1</td>\n",
       "      <td>39353</td>\n",
       "      <td>85475</td>\n",
       "      <td>117961</td>\n",
       "      <td>118300</td>\n",
       "      <td>123472</td>\n",
       "      <td>117905</td>\n",
       "      <td>117906</td>\n",
       "      <td>290919</td>\n",
       "      <td>117908</td>\n",
       "    </tr>\n",
       "    <tr>\n",
       "      <th>1</th>\n",
       "      <td>1</td>\n",
       "      <td>17183</td>\n",
       "      <td>1540</td>\n",
       "      <td>117961</td>\n",
       "      <td>118343</td>\n",
       "      <td>123125</td>\n",
       "      <td>118536</td>\n",
       "      <td>118536</td>\n",
       "      <td>308574</td>\n",
       "      <td>118539</td>\n",
       "    </tr>\n",
       "    <tr>\n",
       "      <th>2</th>\n",
       "      <td>1</td>\n",
       "      <td>36724</td>\n",
       "      <td>14457</td>\n",
       "      <td>118219</td>\n",
       "      <td>118220</td>\n",
       "      <td>117884</td>\n",
       "      <td>117879</td>\n",
       "      <td>267952</td>\n",
       "      <td>19721</td>\n",
       "      <td>117880</td>\n",
       "    </tr>\n",
       "    <tr>\n",
       "      <th>3</th>\n",
       "      <td>1</td>\n",
       "      <td>36135</td>\n",
       "      <td>5396</td>\n",
       "      <td>117961</td>\n",
       "      <td>118343</td>\n",
       "      <td>119993</td>\n",
       "      <td>118321</td>\n",
       "      <td>240983</td>\n",
       "      <td>290919</td>\n",
       "      <td>118322</td>\n",
       "    </tr>\n",
       "    <tr>\n",
       "      <th>4</th>\n",
       "      <td>1</td>\n",
       "      <td>42680</td>\n",
       "      <td>5905</td>\n",
       "      <td>117929</td>\n",
       "      <td>117930</td>\n",
       "      <td>119569</td>\n",
       "      <td>119323</td>\n",
       "      <td>123932</td>\n",
       "      <td>19793</td>\n",
       "      <td>119325</td>\n",
       "    </tr>\n",
       "    <tr>\n",
       "      <th>...</th>\n",
       "      <td>...</td>\n",
       "      <td>...</td>\n",
       "      <td>...</td>\n",
       "      <td>...</td>\n",
       "      <td>...</td>\n",
       "      <td>...</td>\n",
       "      <td>...</td>\n",
       "      <td>...</td>\n",
       "      <td>...</td>\n",
       "      <td>...</td>\n",
       "    </tr>\n",
       "    <tr>\n",
       "      <th>32764</th>\n",
       "      <td>1</td>\n",
       "      <td>23497</td>\n",
       "      <td>16971</td>\n",
       "      <td>117961</td>\n",
       "      <td>118300</td>\n",
       "      <td>119993</td>\n",
       "      <td>118321</td>\n",
       "      <td>240983</td>\n",
       "      <td>290919</td>\n",
       "      <td>118322</td>\n",
       "    </tr>\n",
       "    <tr>\n",
       "      <th>32765</th>\n",
       "      <td>1</td>\n",
       "      <td>25139</td>\n",
       "      <td>311198</td>\n",
       "      <td>91261</td>\n",
       "      <td>118026</td>\n",
       "      <td>122392</td>\n",
       "      <td>121143</td>\n",
       "      <td>173805</td>\n",
       "      <td>249618</td>\n",
       "      <td>121145</td>\n",
       "    </tr>\n",
       "    <tr>\n",
       "      <th>32766</th>\n",
       "      <td>1</td>\n",
       "      <td>34924</td>\n",
       "      <td>28805</td>\n",
       "      <td>117961</td>\n",
       "      <td>118327</td>\n",
       "      <td>120299</td>\n",
       "      <td>124922</td>\n",
       "      <td>152038</td>\n",
       "      <td>118612</td>\n",
       "      <td>124924</td>\n",
       "    </tr>\n",
       "    <tr>\n",
       "      <th>32767</th>\n",
       "      <td>1</td>\n",
       "      <td>80574</td>\n",
       "      <td>55643</td>\n",
       "      <td>118256</td>\n",
       "      <td>118257</td>\n",
       "      <td>117945</td>\n",
       "      <td>280788</td>\n",
       "      <td>280788</td>\n",
       "      <td>292795</td>\n",
       "      <td>119082</td>\n",
       "    </tr>\n",
       "    <tr>\n",
       "      <th>32768</th>\n",
       "      <td>1</td>\n",
       "      <td>14354</td>\n",
       "      <td>59575</td>\n",
       "      <td>117916</td>\n",
       "      <td>118150</td>\n",
       "      <td>117920</td>\n",
       "      <td>118568</td>\n",
       "      <td>122142</td>\n",
       "      <td>19721</td>\n",
       "      <td>118570</td>\n",
       "    </tr>\n",
       "  </tbody>\n",
       "</table>\n",
       "<p>32769 rows × 10 columns</p>\n",
       "</div>"
      ],
      "text/plain": [
       "       ACTION  RESOURCE  MGR_ID  ROLE_ROLLUP_1  ROLE_ROLLUP_2  ROLE_DEPTNAME  \\\n",
       "0           1     39353   85475         117961         118300         123472   \n",
       "1           1     17183    1540         117961         118343         123125   \n",
       "2           1     36724   14457         118219         118220         117884   \n",
       "3           1     36135    5396         117961         118343         119993   \n",
       "4           1     42680    5905         117929         117930         119569   \n",
       "...       ...       ...     ...            ...            ...            ...   \n",
       "32764       1     23497   16971         117961         118300         119993   \n",
       "32765       1     25139  311198          91261         118026         122392   \n",
       "32766       1     34924   28805         117961         118327         120299   \n",
       "32767       1     80574   55643         118256         118257         117945   \n",
       "32768       1     14354   59575         117916         118150         117920   \n",
       "\n",
       "       ROLE_TITLE  ROLE_FAMILY_DESC  ROLE_FAMILY  ROLE_CODE  \n",
       "0          117905            117906       290919     117908  \n",
       "1          118536            118536       308574     118539  \n",
       "2          117879            267952        19721     117880  \n",
       "3          118321            240983       290919     118322  \n",
       "4          119323            123932        19793     119325  \n",
       "...           ...               ...          ...        ...  \n",
       "32764      118321            240983       290919     118322  \n",
       "32765      121143            173805       249618     121145  \n",
       "32766      124922            152038       118612     124924  \n",
       "32767      280788            280788       292795     119082  \n",
       "32768      118568            122142        19721     118570  \n",
       "\n",
       "[32769 rows x 10 columns]"
      ]
     },
     "execution_count": 63,
     "metadata": {},
     "output_type": "execute_result"
    }
   ],
   "source": [
    "df"
   ]
  },
  {
   "cell_type": "code",
   "execution_count": 64,
   "metadata": {},
   "outputs": [],
   "source": [
    "f = ['ACTION', 'RESOURCE', 'MGR_ID','ROLE_ROLLUP_1', 'ROLE_ROLLUP_2', 'ROLE_DEPTNAME', 'ROLE_TITLE', 'ROLE_FAMILY_DESC', 'ROLE_FAMILY', 'ROLE_CODE']"
   ]
  },
  {
   "cell_type": "code",
   "execution_count": 159,
   "metadata": {},
   "outputs": [
    {
     "name": "stdout",
     "output_type": "stream",
     "text": [
      "ACTION :  2\n",
      "RESOURCE :  7518\n",
      "MGR_ID :  4243\n",
      "ROLE_ROLLUP_1 :  128\n",
      "ROLE_ROLLUP_2 :  177\n",
      "ROLE_DEPTNAME :  449\n",
      "ROLE_TITLE :  343\n",
      "ROLE_FAMILY_DESC :  2358\n",
      "ROLE_FAMILY :  67\n",
      "ROLE_CODE :  343\n"
     ]
    }
   ],
   "source": [
    "# number of unique values per feature\n",
    "for F in f:\n",
    "    print(F,\": \",df[F].unique().shape[0])"
   ]
  },
  {
   "cell_type": "markdown",
   "metadata": {},
   "source": [
    "## About the process and Data:\n",
    "As we can see the number of unique instances per feature is huge so We decided to use embeddings instead of one-hot encoding or label encoding. One-hot encoding in this context would result in extremely high-dimensional sparse matrices, making training inefficient and prone to overfitting. In contrast, embeddings allow us to represent each category as a dense, low-dimensional vector that is learned during training, enabling the model to capture similarities between related categories and reducing the input dimensionality significantly.\n",
    "\n",
    "So the input of the Neural-Net will now be the embeded-vector of the feature value, for each feature, all concatinated.\n",
    "\n",
    "We will drop those non-predective features:\n",
    "\n",
    "('RESOURCE', 'MGR_ID')\n",
    "\n",
    "They are just ID's and don't help to generalize."
   ]
  },
  {
   "cell_type": "code",
   "execution_count": 68,
   "metadata": {},
   "outputs": [
    {
     "data": {
      "text/html": [
       "<div>\n",
       "<style scoped>\n",
       "    .dataframe tbody tr th:only-of-type {\n",
       "        vertical-align: middle;\n",
       "    }\n",
       "\n",
       "    .dataframe tbody tr th {\n",
       "        vertical-align: top;\n",
       "    }\n",
       "\n",
       "    .dataframe thead th {\n",
       "        text-align: right;\n",
       "    }\n",
       "</style>\n",
       "<table border=\"1\" class=\"dataframe\">\n",
       "  <thead>\n",
       "    <tr style=\"text-align: right;\">\n",
       "      <th></th>\n",
       "      <th>ACTION</th>\n",
       "      <th>ROLE_ROLLUP_1</th>\n",
       "      <th>ROLE_ROLLUP_2</th>\n",
       "      <th>ROLE_DEPTNAME</th>\n",
       "      <th>ROLE_TITLE</th>\n",
       "      <th>ROLE_FAMILY_DESC</th>\n",
       "      <th>ROLE_FAMILY</th>\n",
       "      <th>ROLE_CODE</th>\n",
       "    </tr>\n",
       "  </thead>\n",
       "  <tbody>\n",
       "    <tr>\n",
       "      <th>0</th>\n",
       "      <td>1</td>\n",
       "      <td>117961</td>\n",
       "      <td>118300</td>\n",
       "      <td>123472</td>\n",
       "      <td>117905</td>\n",
       "      <td>117906</td>\n",
       "      <td>290919</td>\n",
       "      <td>117908</td>\n",
       "    </tr>\n",
       "    <tr>\n",
       "      <th>1</th>\n",
       "      <td>1</td>\n",
       "      <td>117961</td>\n",
       "      <td>118343</td>\n",
       "      <td>123125</td>\n",
       "      <td>118536</td>\n",
       "      <td>118536</td>\n",
       "      <td>308574</td>\n",
       "      <td>118539</td>\n",
       "    </tr>\n",
       "    <tr>\n",
       "      <th>2</th>\n",
       "      <td>1</td>\n",
       "      <td>118219</td>\n",
       "      <td>118220</td>\n",
       "      <td>117884</td>\n",
       "      <td>117879</td>\n",
       "      <td>267952</td>\n",
       "      <td>19721</td>\n",
       "      <td>117880</td>\n",
       "    </tr>\n",
       "    <tr>\n",
       "      <th>3</th>\n",
       "      <td>1</td>\n",
       "      <td>117961</td>\n",
       "      <td>118343</td>\n",
       "      <td>119993</td>\n",
       "      <td>118321</td>\n",
       "      <td>240983</td>\n",
       "      <td>290919</td>\n",
       "      <td>118322</td>\n",
       "    </tr>\n",
       "    <tr>\n",
       "      <th>4</th>\n",
       "      <td>1</td>\n",
       "      <td>117929</td>\n",
       "      <td>117930</td>\n",
       "      <td>119569</td>\n",
       "      <td>119323</td>\n",
       "      <td>123932</td>\n",
       "      <td>19793</td>\n",
       "      <td>119325</td>\n",
       "    </tr>\n",
       "    <tr>\n",
       "      <th>...</th>\n",
       "      <td>...</td>\n",
       "      <td>...</td>\n",
       "      <td>...</td>\n",
       "      <td>...</td>\n",
       "      <td>...</td>\n",
       "      <td>...</td>\n",
       "      <td>...</td>\n",
       "      <td>...</td>\n",
       "    </tr>\n",
       "    <tr>\n",
       "      <th>32764</th>\n",
       "      <td>1</td>\n",
       "      <td>117961</td>\n",
       "      <td>118300</td>\n",
       "      <td>119993</td>\n",
       "      <td>118321</td>\n",
       "      <td>240983</td>\n",
       "      <td>290919</td>\n",
       "      <td>118322</td>\n",
       "    </tr>\n",
       "    <tr>\n",
       "      <th>32765</th>\n",
       "      <td>1</td>\n",
       "      <td>91261</td>\n",
       "      <td>118026</td>\n",
       "      <td>122392</td>\n",
       "      <td>121143</td>\n",
       "      <td>173805</td>\n",
       "      <td>249618</td>\n",
       "      <td>121145</td>\n",
       "    </tr>\n",
       "    <tr>\n",
       "      <th>32766</th>\n",
       "      <td>1</td>\n",
       "      <td>117961</td>\n",
       "      <td>118327</td>\n",
       "      <td>120299</td>\n",
       "      <td>124922</td>\n",
       "      <td>152038</td>\n",
       "      <td>118612</td>\n",
       "      <td>124924</td>\n",
       "    </tr>\n",
       "    <tr>\n",
       "      <th>32767</th>\n",
       "      <td>1</td>\n",
       "      <td>118256</td>\n",
       "      <td>118257</td>\n",
       "      <td>117945</td>\n",
       "      <td>280788</td>\n",
       "      <td>280788</td>\n",
       "      <td>292795</td>\n",
       "      <td>119082</td>\n",
       "    </tr>\n",
       "    <tr>\n",
       "      <th>32768</th>\n",
       "      <td>1</td>\n",
       "      <td>117916</td>\n",
       "      <td>118150</td>\n",
       "      <td>117920</td>\n",
       "      <td>118568</td>\n",
       "      <td>122142</td>\n",
       "      <td>19721</td>\n",
       "      <td>118570</td>\n",
       "    </tr>\n",
       "  </tbody>\n",
       "</table>\n",
       "<p>32769 rows × 8 columns</p>\n",
       "</div>"
      ],
      "text/plain": [
       "       ACTION  ROLE_ROLLUP_1  ROLE_ROLLUP_2  ROLE_DEPTNAME  ROLE_TITLE  \\\n",
       "0           1         117961         118300         123472      117905   \n",
       "1           1         117961         118343         123125      118536   \n",
       "2           1         118219         118220         117884      117879   \n",
       "3           1         117961         118343         119993      118321   \n",
       "4           1         117929         117930         119569      119323   \n",
       "...       ...            ...            ...            ...         ...   \n",
       "32764       1         117961         118300         119993      118321   \n",
       "32765       1          91261         118026         122392      121143   \n",
       "32766       1         117961         118327         120299      124922   \n",
       "32767       1         118256         118257         117945      280788   \n",
       "32768       1         117916         118150         117920      118568   \n",
       "\n",
       "       ROLE_FAMILY_DESC  ROLE_FAMILY  ROLE_CODE  \n",
       "0                117906       290919     117908  \n",
       "1                118536       308574     118539  \n",
       "2                267952        19721     117880  \n",
       "3                240983       290919     118322  \n",
       "4                123932        19793     119325  \n",
       "...                 ...          ...        ...  \n",
       "32764            240983       290919     118322  \n",
       "32765            173805       249618     121145  \n",
       "32766            152038       118612     124924  \n",
       "32767            280788       292795     119082  \n",
       "32768            122142        19721     118570  \n",
       "\n",
       "[32769 rows x 8 columns]"
      ]
     },
     "execution_count": 68,
     "metadata": {},
     "output_type": "execute_result"
    }
   ],
   "source": [
    "data = df.drop(columns=['RESOURCE', 'MGR_ID'])\n",
    "data"
   ]
  },
  {
   "cell_type": "code",
   "execution_count": 70,
   "metadata": {},
   "outputs": [
    {
     "name": "stdout",
     "output_type": "stream",
     "text": [
      "0    1\n",
      "1    1\n",
      "2    1\n",
      "3    1\n",
      "4    1\n",
      "Name: ACTION, dtype: int64\n"
     ]
    },
    {
     "data": {
      "text/html": [
       "<div>\n",
       "<style scoped>\n",
       "    .dataframe tbody tr th:only-of-type {\n",
       "        vertical-align: middle;\n",
       "    }\n",
       "\n",
       "    .dataframe tbody tr th {\n",
       "        vertical-align: top;\n",
       "    }\n",
       "\n",
       "    .dataframe thead th {\n",
       "        text-align: right;\n",
       "    }\n",
       "</style>\n",
       "<table border=\"1\" class=\"dataframe\">\n",
       "  <thead>\n",
       "    <tr style=\"text-align: right;\">\n",
       "      <th></th>\n",
       "      <th>ROLE_ROLLUP_1</th>\n",
       "      <th>ROLE_ROLLUP_2</th>\n",
       "      <th>ROLE_DEPTNAME</th>\n",
       "      <th>ROLE_TITLE</th>\n",
       "      <th>ROLE_FAMILY_DESC</th>\n",
       "      <th>ROLE_FAMILY</th>\n",
       "      <th>ROLE_CODE</th>\n",
       "    </tr>\n",
       "  </thead>\n",
       "  <tbody>\n",
       "    <tr>\n",
       "      <th>0</th>\n",
       "      <td>117961</td>\n",
       "      <td>118300</td>\n",
       "      <td>123472</td>\n",
       "      <td>117905</td>\n",
       "      <td>117906</td>\n",
       "      <td>290919</td>\n",
       "      <td>117908</td>\n",
       "    </tr>\n",
       "    <tr>\n",
       "      <th>1</th>\n",
       "      <td>117961</td>\n",
       "      <td>118343</td>\n",
       "      <td>123125</td>\n",
       "      <td>118536</td>\n",
       "      <td>118536</td>\n",
       "      <td>308574</td>\n",
       "      <td>118539</td>\n",
       "    </tr>\n",
       "    <tr>\n",
       "      <th>2</th>\n",
       "      <td>118219</td>\n",
       "      <td>118220</td>\n",
       "      <td>117884</td>\n",
       "      <td>117879</td>\n",
       "      <td>267952</td>\n",
       "      <td>19721</td>\n",
       "      <td>117880</td>\n",
       "    </tr>\n",
       "    <tr>\n",
       "      <th>3</th>\n",
       "      <td>117961</td>\n",
       "      <td>118343</td>\n",
       "      <td>119993</td>\n",
       "      <td>118321</td>\n",
       "      <td>240983</td>\n",
       "      <td>290919</td>\n",
       "      <td>118322</td>\n",
       "    </tr>\n",
       "    <tr>\n",
       "      <th>4</th>\n",
       "      <td>117929</td>\n",
       "      <td>117930</td>\n",
       "      <td>119569</td>\n",
       "      <td>119323</td>\n",
       "      <td>123932</td>\n",
       "      <td>19793</td>\n",
       "      <td>119325</td>\n",
       "    </tr>\n",
       "  </tbody>\n",
       "</table>\n",
       "</div>"
      ],
      "text/plain": [
       "   ROLE_ROLLUP_1  ROLE_ROLLUP_2  ROLE_DEPTNAME  ROLE_TITLE  ROLE_FAMILY_DESC  \\\n",
       "0         117961         118300         123472      117905            117906   \n",
       "1         117961         118343         123125      118536            118536   \n",
       "2         118219         118220         117884      117879            267952   \n",
       "3         117961         118343         119993      118321            240983   \n",
       "4         117929         117930         119569      119323            123932   \n",
       "\n",
       "   ROLE_FAMILY  ROLE_CODE  \n",
       "0       290919     117908  \n",
       "1       308574     118539  \n",
       "2        19721     117880  \n",
       "3       290919     118322  \n",
       "4        19793     119325  "
      ]
     },
     "execution_count": 70,
     "metadata": {},
     "output_type": "execute_result"
    }
   ],
   "source": [
    "X_pd = data.drop(columns=[\"ACTION\"]) # features\n",
    "y_pd = data[\"ACTION\"] #target feature\n",
    "\n",
    "print(y_pd.head())\n",
    "X_pd.head()"
   ]
  },
  {
   "cell_type": "code",
   "execution_count": 74,
   "metadata": {},
   "outputs": [
    {
     "name": "stdout",
     "output_type": "stream",
     "text": [
      "[1 1 1 ... 1 1 1]\n"
     ]
    },
    {
     "data": {
      "text/plain": [
       "array([[117961, 118300, 123472, ..., 117906, 290919, 117908],\n",
       "       [117961, 118343, 123125, ..., 118536, 308574, 118539],\n",
       "       [118219, 118220, 117884, ..., 267952,  19721, 117880],\n",
       "       ...,\n",
       "       [117961, 118327, 120299, ..., 152038, 118612, 124924],\n",
       "       [118256, 118257, 117945, ..., 280788, 292795, 119082],\n",
       "       [117916, 118150, 117920, ..., 122142,  19721, 118570]], dtype=int64)"
      ]
     },
     "execution_count": 74,
     "metadata": {},
     "output_type": "execute_result"
    }
   ],
   "source": [
    "# Data to numpy\n",
    "X_np = X_pd.to_numpy()\n",
    "y_np = y_pd.to_numpy()\n",
    "print(y_np)\n",
    "X_np"
   ]
  },
  {
   "cell_type": "markdown",
   "metadata": {},
   "source": [
    "We need to split our data into \"train and validation\" sets.\n",
    "\n",
    "test set is separate."
   ]
  },
  {
   "cell_type": "code",
   "execution_count": 84,
   "metadata": {},
   "outputs": [],
   "source": [
    "# split: train + val, stratify to handle class imbalance\n",
    "X_train, X_val, y_train, y_val = train_test_split(\n",
    "    X_np, y_np, test_size=0.3, random_state=42, stratify=y_np\n",
    ")\n",
    "\n",
    "# Test set:\n",
    "df2 = pd.read_csv('Data/amazon-employee-access-challenge(original)/test.csv')\n",
    "X_pd2 =df2.drop(columns=['id','RESOURCE', 'MGR_ID'])\n",
    "X_test = X_pd2.to_numpy()"
   ]
  },
  {
   "cell_type": "code",
   "execution_count": 85,
   "metadata": {},
   "outputs": [
    {
     "name": "stdout",
     "output_type": "stream",
     "text": [
      "(22938, 7) (9831, 7) (58921, 7)\n"
     ]
    }
   ],
   "source": [
    "print(X_train.shape, X_val.shape, X_test.shape)"
   ]
  },
  {
   "cell_type": "code",
   "execution_count": 86,
   "metadata": {},
   "outputs": [
    {
     "name": "stdout",
     "output_type": "stream",
     "text": [
      "torch.Size([22938, 7]) torch.Size([9831, 7]) torch.Size([58921, 7])\n"
     ]
    }
   ],
   "source": [
    "# Transform to tensors:\n",
    "X_train_tensor = torch.tensor(X_train, dtype=torch.float32)\n",
    "X_val_tensor = torch.tensor(X_val, dtype=torch.float32)\n",
    "X_test_tensor = torch.tensor(X_test, dtype=torch.float32)\n",
    "\n",
    "\n",
    "print(X_train_tensor.shape, X_val_tensor.shape, X_test_tensor.shape)"
   ]
  },
  {
   "cell_type": "code",
   "execution_count": 90,
   "metadata": {},
   "outputs": [
    {
     "name": "stdout",
     "output_type": "stream",
     "text": [
      "torch.Size([22938, 1]) torch.Size([9831, 1])\n"
     ]
    }
   ],
   "source": [
    "# Transform to tensors:\n",
    "y_train_tensor = torch.tensor(y_train, dtype=torch.float32)\n",
    "y_train_tensor = y_train_tensor.view([22938,1])\n",
    "\n",
    "y_val_tensor = torch.tensor(y_val, dtype=torch.float32)\n",
    "y_val_tensor = y_val_tensor.view([9831,1])\n",
    "\n",
    "# no y_test\n",
    "\n",
    "print(y_train_tensor.shape, y_val_tensor.shape)"
   ]
  },
  {
   "cell_type": "markdown",
   "metadata": {},
   "source": [
    "### Utility Functions and Data mapping:"
   ]
  },
  {
   "cell_type": "markdown",
   "metadata": {},
   "source": [
    "This Function assign to each unique value in a feature an index and the 0th index is set to 0 to handle unseen values.\n",
    "\n",
    "We concatinate the train and validation sets to get all possible values for the features."
   ]
  },
  {
   "cell_type": "code",
   "execution_count": 196,
   "metadata": {},
   "outputs": [],
   "source": [
    "# The mapping function\n",
    "def map_values(values):\n",
    "    rollup1_mapping = {0:torch.tensor(0,dtype=torch.float32)}\n",
    "    counter = 1\n",
    "    for val in values:\n",
    "        if val not in rollup1_mapping:\n",
    "            rollup1_mapping[val.item()] = torch.tensor(counter,dtype=torch.float32) \n",
    "            counter += 1\n",
    "    return rollup1_mapping\n"
   ]
  },
  {
   "cell_type": "code",
   "execution_count": 197,
   "metadata": {},
   "outputs": [],
   "source": [
    "map_rollup1 = map_values(torch.cat([X_train_tensor[:, 0], X_val_tensor[:, 0]], dim=0).unique())\n",
    "map_rollup2 = map_values(torch.cat([X_train_tensor[:, 1], X_val_tensor[:, 1]], dim=0).unique())\n",
    "map_dept = map_values(torch.cat([X_train_tensor[:, 2], X_val_tensor[:, 2]], dim=0).unique())\n",
    "map_title = map_values(torch.cat([X_train_tensor[:, 3], X_val_tensor[:, 3]], dim=0).unique())\n",
    "map_famdesc = map_values(torch.cat([X_train_tensor[:, 4], X_val_tensor[:, 4]], dim=0).unique())\n",
    "map_family = map_values(torch.cat([X_train_tensor[:, 5], X_val_tensor[:, 5]], dim=0).unique())\n",
    "map_rolecode = map_values(torch.cat([X_train_tensor[:, 6], X_val_tensor[:, 6]], dim=0).unique())"
   ]
  },
  {
   "cell_type": "code",
   "execution_count": 218,
   "metadata": {},
   "outputs": [],
   "source": [
    "maps = [map_rollup1, map_rollup2, map_dept, map_title, map_famdesc, map_family, map_rolecode]"
   ]
  },
  {
   "cell_type": "markdown",
   "metadata": {},
   "source": [
    "These are the unique values in our train data set, plus the length."
   ]
  },
  {
   "cell_type": "code",
   "execution_count": 207,
   "metadata": {},
   "outputs": [
    {
     "data": {
      "text/plain": [
       "{0: tensor(0.),\n",
       " 3130.0: tensor(1.),\n",
       " 4673.0: tensor(2.),\n",
       " 6725.0: tensor(3.),\n",
       " 19721.0: tensor(4.),\n",
       " 19793.0: tensor(5.),\n",
       " 117887.0: tensor(6.),\n",
       " 118131.0: tensor(7.),\n",
       " 118205.0: tensor(8.),\n",
       " 118295.0: tensor(9.),\n",
       " 118331.0: tensor(10.),\n",
       " 118347.0: tensor(11.),\n",
       " 118363.0: tensor(12.),\n",
       " 118372.0: tensor(13.),\n",
       " 118398.0: tensor(14.),\n",
       " 118424.0: tensor(15.),\n",
       " 118453.0: tensor(16.),\n",
       " 118467.0: tensor(17.),\n",
       " 118474.0: tensor(18.),\n",
       " 118478.0: tensor(19.),\n",
       " 118504.0: tensor(20.),\n",
       " 118612.0: tensor(21.),\n",
       " 118638.0: tensor(22.),\n",
       " 118643.0: tensor(23.),\n",
       " 118667.0: tensor(24.),\n",
       " 118704.0: tensor(25.),\n",
       " 118736.0: tensor(26.),\n",
       " 118762.0: tensor(27.),\n",
       " 118870.0: tensor(28.),\n",
       " 118960.0: tensor(29.),\n",
       " 119006.0: tensor(30.),\n",
       " 119095.0: tensor(31.),\n",
       " 119184.0: tensor(32.),\n",
       " 119221.0: tensor(33.),\n",
       " 119695.0: tensor(34.),\n",
       " 119772.0: tensor(35.),\n",
       " 119784.0: tensor(36.),\n",
       " 119788.0: tensor(37.),\n",
       " 120134.0: tensor(38.),\n",
       " 120302.0: tensor(39.),\n",
       " 120518.0: tensor(40.),\n",
       " 121069.0: tensor(41.),\n",
       " 121620.0: tensor(42.),\n",
       " 121916.0: tensor(43.),\n",
       " 122032.0: tensor(44.),\n",
       " 123611.0: tensor(45.),\n",
       " 123689.0: tensor(46.),\n",
       " 124136.0: tensor(47.),\n",
       " 124145.0: tensor(48.),\n",
       " 124487.0: tensor(49.),\n",
       " 125407.0: tensor(50.),\n",
       " 127957.0: tensor(51.),\n",
       " 130364.0: tensor(52.),\n",
       " 131999.0: tensor(53.),\n",
       " 132725.0: tensor(54.),\n",
       " 136398.0: tensor(55.),\n",
       " 143398.0: tensor(56.),\n",
       " 149353.0: tensor(57.),\n",
       " 151277.0: tensor(58.),\n",
       " 155173.0: tensor(59.),\n",
       " 159679.0: tensor(60.),\n",
       " 161100.0: tensor(61.),\n",
       " 249618.0: tensor(62.),\n",
       " 254395.0: tensor(63.),\n",
       " 270488.0: tensor(64.),\n",
       " 290919.0: tensor(65.),\n",
       " 292795.0: tensor(66.),\n",
       " 308574.0: tensor(67.)}"
      ]
     },
     "execution_count": 207,
     "metadata": {},
     "output_type": "execute_result"
    }
   ],
   "source": [
    "map_family"
   ]
  },
  {
   "cell_type": "code",
   "execution_count": 162,
   "metadata": {},
   "outputs": [
    {
     "name": "stdout",
     "output_type": "stream",
     "text": [
      "129 178 450 344 2359 68 344\n"
     ]
    }
   ],
   "source": [
    "#Num distinct values + 1\n",
    "print(len(map_rollup1),len(map_rollup2),len(map_dept),len(map_title),\n",
    "      len(map_famdesc),len(map_family),len(map_rolecode))"
   ]
  },
  {
   "cell_type": "code",
   "execution_count": 156,
   "metadata": {},
   "outputs": [],
   "source": [
    "def valueToIndex(value, maped_values):\n",
    "    idx = maped_values.get(value, 0)\n",
    "    return idx"
   ]
  },
  {
   "cell_type": "code",
   "execution_count": 276,
   "metadata": {},
   "outputs": [],
   "source": [
    "import pickle\n",
    "\n",
    "def save_model_params(model, model_name):\n",
    "    # Extract the state_dict of the model (weights and biases)\n",
    "    model_params = model.state_dict()\n",
    "\n",
    "    # Specify the filename for the pickle file\n",
    "    filename = f\"{model_name}_params.pkl\"\n",
    "\n",
    "    # Save the parameters to a pickle file\n",
    "    with open(filename, 'wb') as f:\n",
    "        pickle.dump(model_params, f)\n",
    "\n",
    "    print(f\"Model parameters saved to {filename}\")"
   ]
  },
  {
   "cell_type": "markdown",
   "metadata": {},
   "source": [
    "### Neural-Net Architecture and Creation:"
   ]
  },
  {
   "cell_type": "markdown",
   "metadata": {},
   "source": [
    "We will train a Neural-Net to both do the embedding and predict the class, the embedding vector size will depend on the number of unique instances in each feature and we can use the rule of thumb min(50, dist_vals/2) or less.\n",
    "\n",
    "so we get the vectors of sizes:\n",
    "\n",
    "ROLE_ROLLUP_1    50\n",
    "\n",
    "ROLE_ROLLUP_2\t 50\n",
    "\n",
    "ROLE_DEPTNAME\t 50\n",
    "\n",
    "ROLE_TITLE   \t 50\n",
    "\n",
    "ROLE_FAMILY_DESC 100\n",
    "\n",
    "ROLE_FAMILY\t     34\n",
    "\n",
    "ROLE_CODE\t     50\n",
    "\n",
    "- Total of 384 inputs."
   ]
  },
  {
   "cell_type": "markdown",
   "metadata": {},
   "source": [
    "#### We will try an architecture of:\n",
    "\n",
    "- Input: 384\n",
    "\n",
    "- Hidden Layer 1: 192\n",
    "\n",
    "- Hidden Layer 2: 96\n",
    "\n",
    "- Hidden Layer 3: 48\n",
    "\n",
    "- Output: 1 (for binary classification)\n",
    "\n",
    "- And use \"BCE\" (Binary Cross-Entropy) loss function.\n",
    "\n",
    "- Using the ReLU activation function."
   ]
  },
  {
   "cell_type": "code",
   "execution_count": null,
   "metadata": {},
   "outputs": [],
   "source": [
    "class NeuralClassifier(nn.Module): # one hidden layer\n",
    "\n",
    "    def __init__(self):\n",
    "        super().__init__()\n",
    "        self.mappedX = []\n",
    "        \n",
    "        # Embedding layers (vocab_size, embedding_dim)\n",
    "        # +1 in dim for any unseen values to be mapped to 0\n",
    "        self.embed_rollup1 = nn.Embedding(128 + 1, 50)\n",
    "        self.embed_rollup2 = nn.Embedding(177 + 1, 50)\n",
    "        self.embed_dept = nn.Embedding(449 + 1, 50)\n",
    "        self.embed_title = nn.Embedding(343 + 1, 50)\n",
    "        self.embed_famdesc = nn.Embedding(2358 + 1, 100)\n",
    "        self.embed_family = nn.Embedding(67 + 1, 34)\n",
    "        self.embed_rolecode = nn.Embedding(343 + 1, 50)\n",
    "\n",
    "        # Total embedding output size = sum of all embedding dims\n",
    "        embedding_output_size = 384\n",
    "\n",
    "        # Fully connected layers\n",
    "        self.fc1 = nn.Linear(embedding_output_size, 192)\n",
    "        self.fc2 = nn.Linear(192, 96)\n",
    "        self.fc3 = nn.Linear(96, 48)\n",
    "        self.fc4 = nn.Linear(48, 1)  # Binary classification\n",
    "\n",
    "    def getMappings(self, X): #gets the train dataset and returns the indices used by the embed function\n",
    "        X = X.T\n",
    "        output = []\n",
    "        i=0\n",
    "        for x in X:\n",
    "            temp_list = [valueToIndex(element.item(), maps[i]) for element in x]\n",
    "            temp_list_tensor = torch.tensor(temp_list).long()\n",
    "            output.append(temp_list_tensor)\n",
    "            i+=1\n",
    "        self.mappedX = output\n",
    "        return output\n",
    "\n",
    "    def forward(self, x):\n",
    "        # Unpack categorical columns (assumes tensor of shape [B, 7])\n",
    "        r1, r2, dept, title, famdesc, fam, rolecode = self.mappedX\n",
    "\n",
    "        # Embed and concatenate\n",
    "        emb = torch.cat([\n",
    "            self.embed_rollup1(r1),\n",
    "            self.embed_rollup2(r2),\n",
    "            self.embed_dept(dept),\n",
    "            self.embed_title(title),\n",
    "            self.embed_famdesc(famdesc),\n",
    "            self.embed_family(fam),\n",
    "            self.embed_rolecode(rolecode)\n",
    "        ], dim=1)\n",
    "\n",
    "        # Feedforward\n",
    "        x = F.relu(self.fc1(emb))\n",
    "        x = F.relu(self.fc2(x))\n",
    "        x = F.relu(self.fc3(x))\n",
    "        x = self.fc4(x)  # Raw logits\n",
    "        return x"
   ]
  },
  {
   "cell_type": "code",
   "execution_count": 273,
   "metadata": {},
   "outputs": [],
   "source": [
    "def Predict(rawLogits): #takes raw logits and outputs classes\n",
    "    x = (rawLogits > 0).long()\n",
    "    return x"
   ]
  },
  {
   "cell_type": "markdown",
   "metadata": {},
   "source": [
    "### Fitting"
   ]
  },
  {
   "cell_type": "code",
   "execution_count": 230,
   "metadata": {},
   "outputs": [],
   "source": [
    "# the fit function:\n",
    "def fit(model, trainX_tensor, trainY_tensor, optimizer, loss_fn, iterations = 1000): #model must have called getMappings()\n",
    "    losses = []\n",
    "    for i in range(iterations):\n",
    "\n",
    "        output = model.forward(trainX_tensor)\n",
    "\n",
    "        loss = loss_fn(output, trainY_tensor)\n",
    "\n",
    "        optimizer.zero_grad() # reset gradients\n",
    "        loss.backward()\n",
    "        optimizer.step()\n",
    "\n",
    "        if(i%200==0):\n",
    "            print(\"current loss: \", loss)\n",
    "            losses.append(loss)\n",
    "    return losses"
   ]
  },
  {
   "cell_type": "code",
   "execution_count": 247,
   "metadata": {},
   "outputs": [],
   "source": [
    "# initializations\n",
    "Model = NeuralClassifier()\n",
    "optimizer = torch.optim.Adam(Model.parameters(), lr=0.01)\n",
    "loss_fn = nn.BCEWithLogitsLoss() # no activation function applied to the output"
   ]
  },
  {
   "cell_type": "code",
   "execution_count": 248,
   "metadata": {},
   "outputs": [
    {
     "data": {
      "text/plain": [
       "[tensor([22, 31, 22,  ..., 22, 61, 22]),\n",
       " tensor([65, 32, 65,  ..., 65, 52, 65]),\n",
       " tensor([ 47,  24, 140,  ...,  63,  42, 370]),\n",
       " tensor([13,  1,  5,  ..., 93, 29, 53]),\n",
       " tensor([ 239,    5,    8,  ..., 2347,  600, 1868]),\n",
       " tensor([ 7,  4, 65,  ..., 15, 16, 15]),\n",
       " tensor([ 13,   1,   5,  ..., 101,  30,  57])]"
      ]
     },
     "execution_count": 248,
     "metadata": {},
     "output_type": "execute_result"
    }
   ],
   "source": [
    "Model.getMappings(X_train_tensor) # saved in model.mappedX"
   ]
  },
  {
   "cell_type": "code",
   "execution_count": 252,
   "metadata": {},
   "outputs": [
    {
     "name": "stdout",
     "output_type": "stream",
     "text": [
      "current loss:  tensor(0.6870, grad_fn=<BinaryCrossEntropyWithLogitsBackward0>)\n",
      "current loss:  tensor(0.0874, grad_fn=<BinaryCrossEntropyWithLogitsBackward0>)\n",
      "current loss:  tensor(0.0873, grad_fn=<BinaryCrossEntropyWithLogitsBackward0>)\n",
      "current loss:  tensor(0.0873, grad_fn=<BinaryCrossEntropyWithLogitsBackward0>)\n",
      "current loss:  tensor(0.0873, grad_fn=<BinaryCrossEntropyWithLogitsBackward0>)\n"
     ]
    }
   ],
   "source": [
    "loses = fit(Model,X_train_tensor,y_train_tensor,optimizer,loss_fn)"
   ]
  },
  {
   "cell_type": "code",
   "execution_count": 280,
   "metadata": {},
   "outputs": [],
   "source": [
    "def plot_loss_curves(loss_lists, labels=None, title=\"Loss over Iterations\", interval=200):\n",
    "    \"\"\"\n",
    "    Plots loss values from multiple training runs.\n",
    "\n",
    "    Args:\n",
    "        loss_lists (list of list of tensors): Lists of losses (e.g., [[loss1, loss2], [loss3, loss4], ...])\n",
    "        labels (list of str): Optional labels for each loss curve.\n",
    "        title (str): Plot title.\n",
    "        interval (int): Interval of iterations between recorded loss points.\n",
    "    \"\"\"\n",
    "    plt.figure(figsize=(10, 5))\n",
    "\n",
    "    for i, loss_list in enumerate(loss_lists):\n",
    "        # Convert tensors to floats\n",
    "        losses = [float(l.detach().cpu()) for l in loss_list]\n",
    "        iters = [i * interval for i in range(len(losses))]\n",
    "        \n",
    "        label = labels[i] if labels else f\"Model {i+1}\"\n",
    "        plt.plot(iters, losses, label=label)\n",
    "\n",
    "    plt.xlabel(\"Iterations\")\n",
    "    plt.ylabel(\"Loss\")\n",
    "    plt.title(title)\n",
    "    plt.legend()\n",
    "    plt.grid(True)\n",
    "    plt.tight_layout()\n",
    "    plt.show()\n"
   ]
  },
  {
   "cell_type": "code",
   "execution_count": 281,
   "metadata": {},
   "outputs": [
    {
     "data": {
      "image/png": "[encoded data removed]",
      "text/plain": [
       "<Figure size 1000x500 with 1 Axes>"
      ]
     },
     "metadata": {},
     "output_type": "display_data"
    }
   ],
   "source": [
    "plot_loss_curves([loses],[\"Model\"])"
   ]
  },
  {
   "cell_type": "markdown",
   "metadata": {},
   "source": [
    "### Validation:"
   ]
  },
  {
   "cell_type": "code",
   "execution_count": 266,
   "metadata": {},
   "outputs": [
    {
     "data": {
      "text/plain": [
       "[tensor([22, 22, 22,  ..., 13, 22, 22]),\n",
       " tensor([67, 22, 65,  ..., 11, 69, 72]),\n",
       " tensor([113,  46,  11,  ...,  15, 411, 209]),\n",
       " tensor([120,   5,   5,  ...,   2,  23, 121]),\n",
       " tensor([2339,    8,    8,  ...,    9,   55,  500]),\n",
       " tensor([14, 65, 65,  ...,  6, 65, 65]),\n",
       " tensor([129,   5,   5,  ...,   2,  24, 130])]"
      ]
     },
     "execution_count": 266,
     "metadata": {},
     "output_type": "execute_result"
    }
   ],
   "source": [
    "Model.getMappings(X_val_tensor) # to take the mappings of the validation set"
   ]
  },
  {
   "cell_type": "code",
   "execution_count": 267,
   "metadata": {},
   "outputs": [],
   "source": [
    "out = Model.forward(X_val_tensor)"
   ]
  },
  {
   "cell_type": "code",
   "execution_count": 269,
   "metadata": {},
   "outputs": [
    {
     "data": {
      "text/plain": [
       "tensor([[ 9.4511],\n",
       "        [ 3.9682],\n",
       "        [22.1897],\n",
       "        ...,\n",
       "        [15.1398],\n",
       "        [25.1479],\n",
       "        [47.5186]], grad_fn=<AddmmBackward0>)"
      ]
     },
     "execution_count": 269,
     "metadata": {},
     "output_type": "execute_result"
    }
   ],
   "source": [
    "out #raw logits"
   ]
  },
  {
   "cell_type": "code",
   "execution_count": 292,
   "metadata": {},
   "outputs": [
    {
     "data": {
      "text/plain": [
       "tensor([[1],\n",
       "        [1],\n",
       "        [1],\n",
       "        ...,\n",
       "        [1],\n",
       "        [1],\n",
       "        [1]])"
      ]
     },
     "execution_count": 292,
     "metadata": {},
     "output_type": "execute_result"
    }
   ],
   "source": [
    "y_pred = Predict(out)\n",
    "y_pred # classes"
   ]
  },
  {
   "cell_type": "code",
   "execution_count": 293,
   "metadata": {},
   "outputs": [
    {
     "data": {
      "text/plain": [
       "0.9688102893890675"
      ]
     },
     "execution_count": 293,
     "metadata": {},
     "output_type": "execute_result"
    }
   ],
   "source": [
    "f1_score(y_val_tensor,y_pred)"
   ]
  },
  {
   "cell_type": "code",
   "execution_count": 301,
   "metadata": {},
   "outputs": [],
   "source": [
    "import matplotlib.pyplot as plt\n",
    "from sklearn.metrics import (\n",
    "    confusion_matrix, ConfusionMatrixDisplay,\n",
    "    roc_curve, auc,\n",
    "    precision_recall_curve\n",
    ")\n",
    "\n",
    "def plot_classification_results(y_true, y_pred_labels, y_pred_scores):\n",
    "    fig, axs = plt.subplots(1, 3, figsize=(20, 10))\n",
    "\n",
    "    # 1. Confusion Matrix\n",
    "    cm = confusion_matrix(y_true, y_pred_labels)\n",
    "    disp = ConfusionMatrixDisplay(confusion_matrix=cm)\n",
    "    disp.plot(ax=axs[0], cmap='Blues', values_format='d')\n",
    "    axs[0].set_title('Confusion Matrix')\n",
    "\n",
    "    # 2. ROC Curve\n",
    "    fpr, tpr, _ = roc_curve(y_true, y_pred_scores)\n",
    "    roc_auc = auc(fpr, tpr)\n",
    "    axs[1].plot(fpr, tpr, label=f'ROC AUC = {roc_auc:.2f}')\n",
    "    axs[1].plot([0, 1], [0, 1], linestyle='--', color='gray')\n",
    "    axs[1].set_xlabel('False Positive Rate')\n",
    "    axs[1].set_ylabel('True Positive Rate')\n",
    "    axs[1].set_title('ROC Curve')\n",
    "    axs[1].legend()\n",
    "    axs[1].grid()\n",
    "\n",
    "    # 3. Precision-Recall Curve\n",
    "    precision, recall, _ = precision_recall_curve(y_true, y_pred_scores)\n",
    "    axs[2].plot(recall, precision, marker='.')\n",
    "    axs[2].set_xlabel('Recall')\n",
    "    axs[2].set_ylabel('Precision')\n",
    "    axs[2].set_title('Precision-Recall Curve')\n",
    "    axs[2].grid()\n",
    "\n",
    "    plt.tight_layout()\n",
    "    plt.show()"
   ]
  },
  {
   "cell_type": "code",
   "execution_count": 302,
   "metadata": {},
   "outputs": [
    {
     "data": {
      "image/png": "[encoded data removed]",
      "text/plain": [
       "<Figure size 2000x1000 with 4 Axes>"
      ]
     },
     "metadata": {},
     "output_type": "display_data"
    }
   ],
   "source": [
    "y_scores = torch.sigmoid(out).detach().numpy().flatten()\n",
    "\n",
    "plot_classification_results(y_val_tensor,y_pred, y_scores)"
   ]
  },
  {
   "cell_type": "markdown",
   "metadata": {},
   "source": [
    "So using f1_score (classes are unbalanced) we get an accuracy of 97%, which is very good.\n",
    "\n",
    "and the plots show very good results."
   ]
  },
  {
   "cell_type": "code",
   "execution_count": 277,
   "metadata": {},
   "outputs": [
    {
     "name": "stdout",
     "output_type": "stream",
     "text": [
      "Model parameters saved to NeuralClassifier_params.pkl\n"
     ]
    }
   ],
   "source": [
    "save_model_params(Model, \"NeuralClassifier\")"
   ]
  },
  {
   "cell_type": "markdown",
   "metadata": {},
   "source": [
    "## Testing"
   ]
  },
  {
   "cell_type": "code",
   "execution_count": 309,
   "metadata": {},
   "outputs": [
    {
     "data": {
      "text/plain": [
       "[tensor([34, 22, 22,  ..., 22, 22, 22]),\n",
       " tensor([39, 67, 65,  ..., 69, 67, 69]),\n",
       " tensor([ 14,  70, 154,  ...,   4, 205,  90]),\n",
       " tensor([ 1, 56, 14,  ..., 20, 23, 76]),\n",
       " tensor([  33,  233, 2251,  ...,   40,    8,  740]),\n",
       " tensor([ 4, 14, 62,  ..., 65, 65, 15]),\n",
       " tensor([ 1, 60, 14,  ..., 21, 24, 83])]"
      ]
     },
     "execution_count": 309,
     "metadata": {},
     "output_type": "execute_result"
    }
   ],
   "source": [
    "Model.getMappings(X_test_tensor)"
   ]
  },
  {
   "cell_type": "code",
   "execution_count": 311,
   "metadata": {},
   "outputs": [],
   "source": [
    "out_test = Model.forward(X_test_tensor) #Raw logits"
   ]
  },
  {
   "cell_type": "code",
   "execution_count": 312,
   "metadata": {},
   "outputs": [
    {
     "data": {
      "text/plain": [
       "tensor([[1],\n",
       "        [1],\n",
       "        [1],\n",
       "        ...,\n",
       "        [1],\n",
       "        [1],\n",
       "        [1]])"
      ]
     },
     "execution_count": 312,
     "metadata": {},
     "output_type": "execute_result"
    }
   ],
   "source": [
    "Predict(out_test)"
   ]
  }
 ],
 "metadata": {
  "kernelspec": {
   "display_name": "DM_ENV",
   "language": "python",
   "name": "python3"
  },
  "language_info": {
   "codemirror_mode": {
    "name": "ipython",
    "version": 3
   },
   "file_extension": ".py",
   "mimetype": "text/x-python",
   "name": "python",
   "nbconvert_exporter": "python",
   "pygments_lexer": "ipython3",
   "version": "3.11.9"
  }
 },
 "nbformat": 4,
 "nbformat_minor": 2
}
