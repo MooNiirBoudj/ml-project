{
 "cells": [
  {
   "cell_type": "markdown",
   "id": "e193051a",
   "metadata": {},
   "source": [
    "# Amazon Employee Access Challenge"
   ]
  },
  {
   "cell_type": "markdown",
   "id": "c6a1c260",
   "metadata": {},
   "source": [
    "## About The Data"
   ]
  },
  {
   "cell_type": "markdown",
   "id": "229ad8d7",
   "metadata": {},
   "source": [
    "The data consists of real historical data collected from 2010 & 2011.  Employees are manually allowed or denied access to resources over time. We will try to create a logistic regression model capable of learning from this historical data to predict approval/denial for an unseen set of employees."
   ]
  },
  {
   "cell_type": "code",
   "execution_count": 1,
   "id": "0472c70a",
   "metadata": {},
   "outputs": [],
   "source": [
    "import pandas as pd\n",
    "import numpy as np\n",
    "from sklearn.preprocessing import OneHotEncoder\n",
    "from sklearn.linear_model import LogisticRegression\n",
    "from sklearn.model_selection import KFold\n",
    "from sklearn.metrics import roc_auc_score\n"
   ]
  },
  {
   "cell_type": "markdown",
   "id": "cded44c4",
   "metadata": {},
   "source": [
    "We start by loading the data"
   ]
  },
  {
   "cell_type": "code",
   "execution_count": 2,
   "id": "d3c26349",
   "metadata": {},
   "outputs": [],
   "source": [
    "train_data= pd.read_csv('../../data/original data/amazon-employee-access-challenge/train.csv')\n",
    "test_data = pd.read_csv('../../data/original data/amazon-employee-access-challenge/test.csv')"
   ]
  },
  {
   "cell_type": "markdown",
   "id": "26a563d2",
   "metadata": {},
   "source": [
    "Extracting the target feature values"
   ]
  },
  {
   "cell_type": "code",
   "execution_count": 3,
   "id": "f1da5296",
   "metadata": {},
   "outputs": [],
   "source": [
    "y = train_data['ACTION'].values\n",
    "X_combined = pd.concat([train_data.drop('ACTION', axis=1), test_data.drop('id', axis=1)], axis=0)\n",
    "num_train = len(train_data)"
   ]
  },
  {
   "cell_type": "markdown",
   "id": "f18660b7",
   "metadata": {},
   "source": [
    "Since the data was a set of categorical values (IDs of the roles), we will hot encode the instances"
   ]
  },
  {
   "cell_type": "code",
   "execution_count": 4,
   "id": "9878e34e",
   "metadata": {},
   "outputs": [],
   "source": [
    "encoder = OneHotEncoder(handle_unknown='ignore', sparse_output=True)\n",
    "X_encoded = encoder.fit_transform(X_combined)"
   ]
  },
  {
   "cell_type": "code",
   "execution_count": 5,
   "id": "6d2e9051",
   "metadata": {},
   "outputs": [],
   "source": [
    "X_train_encoded = X_encoded[:num_train]\n",
    "X_test_encoded = X_encoded[num_train:]"
   ]
  },
  {
   "cell_type": "markdown",
   "id": "4c78d3e0",
   "metadata": {},
   "source": [
    "The model we will work with as requested is the **Logistic Regression**, we will now cross-validate the model chosen"
   ]
  },
  {
   "cell_type": "code",
   "execution_count": 6,
   "id": "dad99c74",
   "metadata": {},
   "outputs": [
    {
     "name": "stdout",
     "output_type": "stream",
     "text": [
      "Cross-validated AUC: 0.8646\n"
     ]
    }
   ],
   "source": [
    "model = LogisticRegression(C=1.0, solver='liblinear', max_iter=1000)\n",
    "\n",
    "kf = KFold(n_splits=10, shuffle=True, random_state=42)\n",
    "aucs = []\n",
    "\n",
    "for train_idx, val_idx in kf.split(X_train_encoded):\n",
    "    model.fit(X_train_encoded[train_idx], y[train_idx])\n",
    "    preds = model.predict_proba(X_train_encoded[val_idx])[:, 1]\n",
    "    auc = roc_auc_score(y[val_idx], preds)\n",
    "    aucs.append(auc)\n",
    "\n",
    "mean_auc = np.mean(aucs)\n",
    "print(f\"Cross-validated AUC: {mean_auc:.4f}\")\n"
   ]
  },
  {
   "cell_type": "markdown",
   "id": "279e90bf",
   "metadata": {},
   "source": [
    "The metric used for evaluating the model is the AUC, we avoided using the accuracy because of the huge data imbalance of the target feature"
   ]
  },
  {
   "cell_type": "markdown",
   "id": "069c0761",
   "metadata": {},
   "source": [
    "A score of 0.8646 on the cross-validation is not a bad one, so we continue with it and train the model on all instances and predict on test data"
   ]
  },
  {
   "cell_type": "code",
   "execution_count": 7,
   "id": "ff603213",
   "metadata": {},
   "outputs": [],
   "source": [
    "model.fit(X_train_encoded, y)\n",
    "pred_probs = model.predict_proba(X_test_encoded)[:, 1]\n",
    "pred_classes = (pred_probs > 0.5).astype(int)"
   ]
  },
  {
   "cell_type": "markdown",
   "id": "eaced4ab",
   "metadata": {},
   "source": [
    "### Adding some features"
   ]
  },
  {
   "cell_type": "markdown",
   "id": "861b295b",
   "metadata": {},
   "source": [
    "The model's performance was overall good, but we can make it better by adding some expressive features for the model"
   ]
  },
  {
   "cell_type": "markdown",
   "id": "622c34ba",
   "metadata": {},
   "source": [
    "For that we will use a **Feature Cobination** tichnique where n features will be combined every iteration creating new data dimensions"
   ]
  },
  {
   "cell_type": "code",
   "execution_count": 8,
   "id": "d6b22fe0",
   "metadata": {},
   "outputs": [],
   "source": [
    "import pandas as pd\n",
    "import numpy as np\n",
    "import random\n",
    "import time\n",
    "from itertools import combinations\n",
    "from numpy import array\n",
    "from scipy import sparse\n",
    "from sklearn import linear_model\n",
    "from sklearn.model_selection import KFold\n",
    "from sklearn.metrics import roc_auc_score\n"
   ]
  },
  {
   "cell_type": "markdown",
   "id": "1e9c20b3",
   "metadata": {},
   "source": [
    "We start by grouping the training ad testing data, since this method uses the frequency of rows patterns"
   ]
  },
  {
   "cell_type": "code",
   "execution_count": 9,
   "id": "750c88c0",
   "metadata": {},
   "outputs": [],
   "source": [
    "all_data = np.vstack((train_data.iloc[:, 1:], test_data.iloc[:, 1:]))\n",
    "num_train = train_data.shape[0]\n",
    "y = array(train_data['ACTION'])\n"
   ]
  },
  {
   "cell_type": "markdown",
   "id": "c53dbbab",
   "metadata": {},
   "source": [
    "We now set a threshold of 3 minimum occurences of a combination to be selectedm and iterate to all features starting pairwise until combining all the existing 7 features."
   ]
  },
  {
   "cell_type": "code",
   "execution_count": 10,
   "id": "35b9e046",
   "metadata": {},
   "outputs": [],
   "source": [
    "min_occurs = 3\n",
    "degrees = [2, 3, 4, 5, 6, 7]\n",
    "\n",
    "def dict_encode(encoding, value):\n",
    "    if value not in encoding:\n",
    "        encoding[value] = {'code': len(encoding) + 1, 'count': 0}\n",
    "    enc = encoding[value]\n",
    "    enc['count'] += 1\n",
    "    encoding[value] = enc\n",
    "\n",
    "def dict_decode(encoding, value, min_occurs):\n",
    "    enc = encoding.get(value, {'code': -1, 'count': 0})\n",
    "    return enc['code'] if enc['count'] >= min_occurs else -1\n",
    "\n",
    "def group_data(data, degree, min_occurs):\n",
    "    m, n = data.shape\n",
    "    encoding = dict()\n",
    "    for indexes in combinations(range(n), degree):\n",
    "        for v in data[:, indexes]:\n",
    "            dict_encode(encoding, tuple(v))\n",
    "    new_data = []\n",
    "    for indexes in combinations(range(n), degree):\n",
    "        new_data.append([dict_decode(encoding, tuple(v), min_occurs) for v in data[:, indexes]])\n",
    "    return array(new_data).T\n",
    "\n",
    "grouped_data = [group_data(all_data, degree=d, min_occurs=min_occurs) for d in degrees]\n"
   ]
  },
  {
   "cell_type": "code",
   "execution_count": 11,
   "id": "51442d73",
   "metadata": {},
   "outputs": [
    {
     "name": "stdout",
     "output_type": "stream",
     "text": [
      "Total number of categorical features: 501\n"
     ]
    }
   ],
   "source": [
    "X_train_all = np.hstack([all_data[:num_train]] + [d[:num_train] for d in grouped_data])\n",
    "X_test_all = np.hstack([all_data[num_train:]] + [d[num_train:] for d in grouped_data])\n",
    "\n",
    "num_features = X_train_all.shape[1]\n",
    "print(f\"Total number of categorical features: {num_features}\")\n"
   ]
  },
  {
   "cell_type": "markdown",
   "id": "34e0538a",
   "metadata": {},
   "source": [
    "This resulted in a new dataset with 501 feature, even though it is a big number, we will consider adding some expressive features below. This is because:\n",
    "1. Not all 501 features are useful — most are \"dead weight\"\n",
    "2. Linear Models can't capture non-linear interactions by themselves, so we manually engineer additional \"interaction\" features by combining them "
   ]
  },
  {
   "cell_type": "markdown",
   "id": "b609dc28",
   "metadata": {},
   "source": [
    "We set up the logistic regression model"
   ]
  },
  {
   "cell_type": "code",
   "execution_count": 12,
   "id": "637e07de",
   "metadata": {},
   "outputs": [
    {
     "name": "stdout",
     "output_type": "stream",
     "text": [
      "Logistic Regression C parameter: 3.3434\n"
     ]
    }
   ],
   "source": [
    "seed = 123\n",
    "rnd = random.Random(seed * num_features)\n",
    "model = linear_model.LogisticRegression()\n",
    "model.C = 0.5 + rnd.random() * 3.5\n",
    "print(f\"Logistic Regression C parameter: {model.C:.4f}\")\n"
   ]
  },
  {
   "cell_type": "markdown",
   "id": "52047f9f",
   "metadata": {},
   "source": [
    "We prepare the separete one-hot encoding for the datset features since it contains categorical values"
   ]
  },
  {
   "cell_type": "code",
   "execution_count": 13,
   "id": "bfe2948b",
   "metadata": {},
   "outputs": [],
   "source": [
    "def one_hot_encoder(data, keymap=None):\n",
    "    if keymap is None:\n",
    "        keymap = []\n",
    "        for col in data.T:\n",
    "            uniques = set(list(col))\n",
    "            keymap.append(dict((key, i) for i, key in enumerate(uniques)))\n",
    "    total_pts = data.shape[0]\n",
    "    outdat = []\n",
    "    for i, col in enumerate(data.T):\n",
    "        km = keymap[i]\n",
    "        num_labels = len(km)\n",
    "        spmat = sparse.lil_matrix((total_pts, num_labels))\n",
    "        for j, val in enumerate(col):\n",
    "            if val in km:\n",
    "                spmat[j, km[val]] = 1\n",
    "        outdat.append(spmat)\n",
    "    outdat = sparse.hstack(outdat).tocsr()\n",
    "    return outdat, keymap\n",
    "\n",
    "Xts = [one_hot_encoder(X_train_all[:, [i]])[0] for i in range(num_features)]\n"
   ]
  },
  {
   "cell_type": "code",
   "execution_count": 14,
   "id": "dbc8e2bd",
   "metadata": {},
   "outputs": [
    {
     "name": "stdout",
     "output_type": "stream",
     "text": [
      "Total number of new features after one-hot encoding: 2008898\n"
     ]
    }
   ],
   "source": [
    "total_new_features = sum(X_encoded_col.shape[1] for X_encoded_col in Xts)\n",
    "print(f\"Total number of new features after one-hot encoding: {total_new_features}\")\n"
   ]
  },
  {
   "cell_type": "markdown",
   "id": "1a7df1ee",
   "metadata": {},
   "source": [
    "As we can see, this increased the number of features to more than 2 million feature. So we need to choose a subset of the best features to be used with our model"
   ]
  },
  {
   "cell_type": "markdown",
   "id": "61b5e6ff",
   "metadata": {},
   "source": [
    "For that we will use the function defined below that greedily selects the best subset of features that increase AUC."
   ]
  },
  {
   "cell_type": "code",
   "execution_count": 43,
   "id": "e257c863",
   "metadata": {},
   "outputs": [
    {
     "name": "stdout",
     "output_type": "stream",
     "text": [
      "Current features: [440] AUC: 0.84811\n",
      "Current features: [440, 0] AUC: 0.87628\n",
      "Current features: [440, 0, 45] AUC: 0.88617\n",
      "Current features: [440, 0, 45, 247] AUC: 0.89411\n",
      "Current features: [0, 45, 493, 247, 440] AUC: 0.89649\n",
      "Current features: [0, 45, 493, 150, 247, 440] AUC: 0.89945\n",
      "Current features: [0, 7, 45, 493, 150, 247, 440] AUC: 0.90076\n",
      "Current features: [0, 7, 45, 493, 179, 150, 247, 440] AUC: 0.90168\n",
      "Current features: [0, 7, 45, 493, 77, 179, 150, 247, 440] AUC: 0.90227\n",
      "Selected features: [0, 7, 45, 77, 150, 179, 247, 440, 493]\n"
     ]
    }
   ],
   "source": [
    "good_features = set()\n",
    "score_hist = []\n",
    "f_remain = list(range(len(Xts)))\n",
    "cur_best_score = -1\n",
    "cur_best_score_thres = 1.0\n",
    "\n",
    "N = 10\n",
    "\n",
    "def cv_loop(X, y, model, N, seed):\n",
    "    mean_auc = 0.0\n",
    "    k_fold = KFold(n_splits=N, shuffle=True, random_state=seed)\n",
    "    for train_ix, test_ix in k_fold.split(X):\n",
    "        model.fit(X[train_ix], y[train_ix])\n",
    "        preds = model.predict_proba(X[test_ix])[:, 1]\n",
    "        auc = roc_auc_score(y[test_ix], preds)\n",
    "        mean_auc += auc\n",
    "    return mean_auc / N\n",
    "\n",
    "while len(score_hist) < 2 or score_hist[-1][0] > score_hist[-2][0]:\n",
    "    scores = []\n",
    "    f_shuff = f_remain[:]\n",
    "    random.shuffle(f_shuff)\n",
    "    n_thres = 0.3679 * len(f_remain)\n",
    "    iter_best_score = -1\n",
    "    for i, f in enumerate(f_shuff):\n",
    "        feats = list(good_features) + [f]\n",
    "        Xt = sparse.hstack([Xts[j] for j in feats]).tocsr()\n",
    "        score = cv_loop(Xt, y, model, N, seed)\n",
    "        if score < (cur_best_score * cur_best_score_thres):\n",
    "            f_remain.remove(f)\n",
    "        else:\n",
    "            scores.append((score, f))\n",
    "            if score > iter_best_score:\n",
    "                iter_best_score = score\n",
    "                if i > n_thres and score > cur_best_score:\n",
    "                    break\n",
    "    if scores:\n",
    "        best_score = sorted(scores)[-1]\n",
    "        f_remain.remove(best_score[1])\n",
    "        if best_score[0] > cur_best_score:\n",
    "            good_features.add(best_score[1])\n",
    "            score_hist.append(best_score)\n",
    "            cur_best_score = best_score[0]\n",
    "        print(f\"Current features: {list(good_features)} AUC: {best_score[0]:.5f}\")\n",
    "    else:\n",
    "        break\n",
    "\n",
    "good_features = sorted(list(good_features))\n",
    "print(f\"Selected features: {good_features}\")\n"
   ]
  },
  {
   "cell_type": "markdown",
   "id": "67f7a8ca",
   "metadata": {},
   "source": [
    "After selecting the Hyperparameters to be used, we fine tune the models parameters"
   ]
  },
  {
   "cell_type": "code",
   "execution_count": 15,
   "id": "81610062",
   "metadata": {},
   "outputs": [],
   "source": [
    "good_features = set()\n",
    "score_hist = []\n",
    "f_remain = list(range(len(Xts)))\n",
    "cur_best_score = -1\n",
    "cur_best_score_thres = 1.0\n",
    "\n",
    "N = 10"
   ]
  },
  {
   "cell_type": "code",
   "execution_count": 16,
   "id": "1b5e789c",
   "metadata": {},
   "outputs": [],
   "source": [
    "good_features = set([0, 7, 45, 77, 150, 179, 247, 440, 493])\n"
   ]
  },
  {
   "cell_type": "code",
   "execution_count": 17,
   "id": "0b529476",
   "metadata": {},
   "outputs": [],
   "source": [
    "def cv_loop(X, y, model, N, seed):\n",
    "    mean_auc = 0.0\n",
    "    k_fold = KFold(n_splits=N, shuffle=True, random_state=seed)\n",
    "    for train_ix, test_ix in k_fold.split(X):\n",
    "        model.fit(X[train_ix], y[train_ix])\n",
    "        preds = model.predict_proba(X[test_ix])[:, 1]\n",
    "        auc = roc_auc_score(y[test_ix], preds)\n",
    "        mean_auc += auc\n",
    "    return mean_auc / N"
   ]
  },
  {
   "cell_type": "code",
   "execution_count": 18,
   "id": "9eb13740",
   "metadata": {},
   "outputs": [
    {
     "name": "stdout",
     "output_type": "stream",
     "text": [
      "C: 0.1250 | Mean AUC: 0.87009\n",
      "C: 0.1614 | Mean AUC: 0.87802\n",
      "C: 0.2083 | Mean AUC: 0.88478\n",
      "C: 0.2689 | Mean AUC: 0.89095\n",
      "C: 0.3472 | Mean AUC: 0.89552\n",
      "C: 0.4482 | Mean AUC: 0.89905\n",
      "C: 0.5786 | Mean AUC: 0.90137\n",
      "C: 0.7469 | Mean AUC: 0.90276\n",
      "C: 0.9642 | Mean AUC: 0.90353\n",
      "C: 1.2447 | Mean AUC: 0.90386\n",
      "C: 1.6068 | Mean AUC: 0.90382\n",
      "C: 2.0743 | Mean AUC: 0.90337\n",
      "C: 2.6778 | Mean AUC: 0.90293\n",
      "C: 3.4569 | Mean AUC: 0.90224\n",
      "C: 4.4626 | Mean AUC: 0.90123\n",
      "C: 5.7610 | Mean AUC: 0.89993\n",
      "C: 7.4371 | Mean AUC: 0.89892\n",
      "C: 9.6008 | Mean AUC: 0.89754\n",
      "C: 12.3941 | Mean AUC: 0.89613\n",
      "C: 16.0000 | Mean AUC: 0.89525\n",
      "Best C: 1.2447\n"
     ]
    }
   ],
   "source": [
    "Xt = sparse.hstack([Xts[j] for j in good_features]).tocsr()\n",
    "score_hist = []\n",
    "score = cv_loop(Xt, y, model, N, seed)\n",
    "score_hist.append((score, model.C))\n",
    "\n",
    "Cvals = np.logspace(-3, 4, 20, base=2)\n",
    "\n",
    "for C in Cvals:\n",
    "    model.C = C\n",
    "    score = cv_loop(Xt, y, model, N, seed)\n",
    "    score_hist.append((score, C))\n",
    "    print(f\"C: {C:.4f} | Mean AUC: {score:.5f}\")\n",
    "\n",
    "model.C = sorted(score_hist)[-1][1]\n",
    "print(f\"Best C: {model.C:.4f}\")\n"
   ]
  },
  {
   "cell_type": "markdown",
   "id": "253878b0",
   "metadata": {},
   "source": [
    "And now we one-hot encode the features values to be inputed to the prediction model"
   ]
  },
  {
   "cell_type": "code",
   "execution_count": 19,
   "id": "3d368eef",
   "metadata": {},
   "outputs": [],
   "source": [
    "good_features = [0, 7, 45, 77, 150, 179, 247, 440, 493] "
   ]
  },
  {
   "cell_type": "code",
   "execution_count": 20,
   "id": "1ba1ab2a",
   "metadata": {},
   "outputs": [],
   "source": [
    "Xt = np.vstack((X_train_all[:, good_features], X_test_all[:, good_features]))\n",
    "Xt, keymap = one_hot_encoder(Xt)\n",
    "\n",
    "X_train = Xt[:num_train]\n",
    "X_test = Xt[num_train:]\n"
   ]
  },
  {
   "cell_type": "markdown",
   "id": "ac504d30",
   "metadata": {},
   "source": [
    "Final training of the model"
   ]
  },
  {
   "cell_type": "code",
   "execution_count": 21,
   "id": "225325e0",
   "metadata": {},
   "outputs": [
    {
     "data": {
      "text/html": [
       "<style>#sk-container-id-1 {\n",
       "  /* Definition of color scheme common for light and dark mode */\n",
       "  --sklearn-color-text: #000;\n",
       "  --sklearn-color-text-muted: #666;\n",
       "  --sklearn-color-line: gray;\n",
       "  /* Definition of color scheme for unfitted estimators */\n",
       "  --sklearn-color-unfitted-level-0: #fff5e6;\n",
       "  --sklearn-color-unfitted-level-1: #f6e4d2;\n",
       "  --sklearn-color-unfitted-level-2: #ffe0b3;\n",
       "  --sklearn-color-unfitted-level-3: chocolate;\n",
       "  /* Definition of color scheme for fitted estimators */\n",
       "  --sklearn-color-fitted-level-0: #f0f8ff;\n",
       "  --sklearn-color-fitted-level-1: #d4ebff;\n",
       "  --sklearn-color-fitted-level-2: #b3dbfd;\n",
       "  --sklearn-color-fitted-level-3: cornflowerblue;\n",
       "\n",
       "  /* Specific color for light theme */\n",
       "  --sklearn-color-text-on-default-background: var(--sg-text-color, var(--theme-code-foreground, var(--jp-content-font-color1, black)));\n",
       "  --sklearn-color-background: var(--sg-background-color, var(--theme-background, var(--jp-layout-color0, white)));\n",
       "  --sklearn-color-border-box: var(--sg-text-color, var(--theme-code-foreground, var(--jp-content-font-color1, black)));\n",
       "  --sklearn-color-icon: #696969;\n",
       "\n",
       "  @media (prefers-color-scheme: dark) {\n",
       "    /* Redefinition of color scheme for dark theme */\n",
       "    --sklearn-color-text-on-default-background: var(--sg-text-color, var(--theme-code-foreground, var(--jp-content-font-color1, white)));\n",
       "    --sklearn-color-background: var(--sg-background-color, var(--theme-background, var(--jp-layout-color0, #111)));\n",
       "    --sklearn-color-border-box: var(--sg-text-color, var(--theme-code-foreground, var(--jp-content-font-color1, white)));\n",
       "    --sklearn-color-icon: #878787;\n",
       "  }\n",
       "}\n",
       "\n",
       "#sk-container-id-1 {\n",
       "  color: var(--sklearn-color-text);\n",
       "}\n",
       "\n",
       "#sk-container-id-1 pre {\n",
       "  padding: 0;\n",
       "}\n",
       "\n",
       "#sk-container-id-1 input.sk-hidden--visually {\n",
       "  border: 0;\n",
       "  clip: rect(1px 1px 1px 1px);\n",
       "  clip: rect(1px, 1px, 1px, 1px);\n",
       "  height: 1px;\n",
       "  margin: -1px;\n",
       "  overflow: hidden;\n",
       "  padding: 0;\n",
       "  position: absolute;\n",
       "  width: 1px;\n",
       "}\n",
       "\n",
       "#sk-container-id-1 div.sk-dashed-wrapped {\n",
       "  border: 1px dashed var(--sklearn-color-line);\n",
       "  margin: 0 0.4em 0.5em 0.4em;\n",
       "  box-sizing: border-box;\n",
       "  padding-bottom: 0.4em;\n",
       "  background-color: var(--sklearn-color-background);\n",
       "}\n",
       "\n",
       "#sk-container-id-1 div.sk-container {\n",
       "  /* jupyter's `normalize.less` sets `[hidden] { display: none; }`\n",
       "     but bootstrap.min.css set `[hidden] { display: none !important; }`\n",
       "     so we also need the `!important` here to be able to override the\n",
       "     default hidden behavior on the sphinx rendered scikit-learn.org.\n",
       "     See: https://github.com/scikit-learn/scikit-learn/issues/21755 */\n",
       "  display: inline-block !important;\n",
       "  position: relative;\n",
       "}\n",
       "\n",
       "#sk-container-id-1 div.sk-text-repr-fallback {\n",
       "  display: none;\n",
       "}\n",
       "\n",
       "div.sk-parallel-item,\n",
       "div.sk-serial,\n",
       "div.sk-item {\n",
       "  /* draw centered vertical line to link estimators */\n",
       "  background-image: linear-gradient(var(--sklearn-color-text-on-default-background), var(--sklearn-color-text-on-default-background));\n",
       "  background-size: 2px 100%;\n",
       "  background-repeat: no-repeat;\n",
       "  background-position: center center;\n",
       "}\n",
       "\n",
       "/* Parallel-specific style estimator block */\n",
       "\n",
       "#sk-container-id-1 div.sk-parallel-item::after {\n",
       "  content: \"\";\n",
       "  width: 100%;\n",
       "  border-bottom: 2px solid var(--sklearn-color-text-on-default-background);\n",
       "  flex-grow: 1;\n",
       "}\n",
       "\n",
       "#sk-container-id-1 div.sk-parallel {\n",
       "  display: flex;\n",
       "  align-items: stretch;\n",
       "  justify-content: center;\n",
       "  background-color: var(--sklearn-color-background);\n",
       "  position: relative;\n",
       "}\n",
       "\n",
       "#sk-container-id-1 div.sk-parallel-item {\n",
       "  display: flex;\n",
       "  flex-direction: column;\n",
       "}\n",
       "\n",
       "#sk-container-id-1 div.sk-parallel-item:first-child::after {\n",
       "  align-self: flex-end;\n",
       "  width: 50%;\n",
       "}\n",
       "\n",
       "#sk-container-id-1 div.sk-parallel-item:last-child::after {\n",
       "  align-self: flex-start;\n",
       "  width: 50%;\n",
       "}\n",
       "\n",
       "#sk-container-id-1 div.sk-parallel-item:only-child::after {\n",
       "  width: 0;\n",
       "}\n",
       "\n",
       "/* Serial-specific style estimator block */\n",
       "\n",
       "#sk-container-id-1 div.sk-serial {\n",
       "  display: flex;\n",
       "  flex-direction: column;\n",
       "  align-items: center;\n",
       "  background-color: var(--sklearn-color-background);\n",
       "  padding-right: 1em;\n",
       "  padding-left: 1em;\n",
       "}\n",
       "\n",
       "\n",
       "/* Toggleable style: style used for estimator/Pipeline/ColumnTransformer box that is\n",
       "clickable and can be expanded/collapsed.\n",
       "- Pipeline and ColumnTransformer use this feature and define the default style\n",
       "- Estimators will overwrite some part of the style using the `sk-estimator` class\n",
       "*/\n",
       "\n",
       "/* Pipeline and ColumnTransformer style (default) */\n",
       "\n",
       "#sk-container-id-1 div.sk-toggleable {\n",
       "  /* Default theme specific background. It is overwritten whether we have a\n",
       "  specific estimator or a Pipeline/ColumnTransformer */\n",
       "  background-color: var(--sklearn-color-background);\n",
       "}\n",
       "\n",
       "/* Toggleable label */\n",
       "#sk-container-id-1 label.sk-toggleable__label {\n",
       "  cursor: pointer;\n",
       "  display: flex;\n",
       "  width: 100%;\n",
       "  margin-bottom: 0;\n",
       "  padding: 0.5em;\n",
       "  box-sizing: border-box;\n",
       "  text-align: center;\n",
       "  align-items: start;\n",
       "  justify-content: space-between;\n",
       "  gap: 0.5em;\n",
       "}\n",
       "\n",
       "#sk-container-id-1 label.sk-toggleable__label .caption {\n",
       "  font-size: 0.6rem;\n",
       "  font-weight: lighter;\n",
       "  color: var(--sklearn-color-text-muted);\n",
       "}\n",
       "\n",
       "#sk-container-id-1 label.sk-toggleable__label-arrow:before {\n",
       "  /* Arrow on the left of the label */\n",
       "  content: \"▸\";\n",
       "  float: left;\n",
       "  margin-right: 0.25em;\n",
       "  color: var(--sklearn-color-icon);\n",
       "}\n",
       "\n",
       "#sk-container-id-1 label.sk-toggleable__label-arrow:hover:before {\n",
       "  color: var(--sklearn-color-text);\n",
       "}\n",
       "\n",
       "/* Toggleable content - dropdown */\n",
       "\n",
       "#sk-container-id-1 div.sk-toggleable__content {\n",
       "  max-height: 0;\n",
       "  max-width: 0;\n",
       "  overflow: hidden;\n",
       "  text-align: left;\n",
       "  /* unfitted */\n",
       "  background-color: var(--sklearn-color-unfitted-level-0);\n",
       "}\n",
       "\n",
       "#sk-container-id-1 div.sk-toggleable__content.fitted {\n",
       "  /* fitted */\n",
       "  background-color: var(--sklearn-color-fitted-level-0);\n",
       "}\n",
       "\n",
       "#sk-container-id-1 div.sk-toggleable__content pre {\n",
       "  margin: 0.2em;\n",
       "  border-radius: 0.25em;\n",
       "  color: var(--sklearn-color-text);\n",
       "  /* unfitted */\n",
       "  background-color: var(--sklearn-color-unfitted-level-0);\n",
       "}\n",
       "\n",
       "#sk-container-id-1 div.sk-toggleable__content.fitted pre {\n",
       "  /* unfitted */\n",
       "  background-color: var(--sklearn-color-fitted-level-0);\n",
       "}\n",
       "\n",
       "#sk-container-id-1 input.sk-toggleable__control:checked~div.sk-toggleable__content {\n",
       "  /* Expand drop-down */\n",
       "  max-height: 200px;\n",
       "  max-width: 100%;\n",
       "  overflow: auto;\n",
       "}\n",
       "\n",
       "#sk-container-id-1 input.sk-toggleable__control:checked~label.sk-toggleable__label-arrow:before {\n",
       "  content: \"▾\";\n",
       "}\n",
       "\n",
       "/* Pipeline/ColumnTransformer-specific style */\n",
       "\n",
       "#sk-container-id-1 div.sk-label input.sk-toggleable__control:checked~label.sk-toggleable__label {\n",
       "  color: var(--sklearn-color-text);\n",
       "  background-color: var(--sklearn-color-unfitted-level-2);\n",
       "}\n",
       "\n",
       "#sk-container-id-1 div.sk-label.fitted input.sk-toggleable__control:checked~label.sk-toggleable__label {\n",
       "  background-color: var(--sklearn-color-fitted-level-2);\n",
       "}\n",
       "\n",
       "/* Estimator-specific style */\n",
       "\n",
       "/* Colorize estimator box */\n",
       "#sk-container-id-1 div.sk-estimator input.sk-toggleable__control:checked~label.sk-toggleable__label {\n",
       "  /* unfitted */\n",
       "  background-color: var(--sklearn-color-unfitted-level-2);\n",
       "}\n",
       "\n",
       "#sk-container-id-1 div.sk-estimator.fitted input.sk-toggleable__control:checked~label.sk-toggleable__label {\n",
       "  /* fitted */\n",
       "  background-color: var(--sklearn-color-fitted-level-2);\n",
       "}\n",
       "\n",
       "#sk-container-id-1 div.sk-label label.sk-toggleable__label,\n",
       "#sk-container-id-1 div.sk-label label {\n",
       "  /* The background is the default theme color */\n",
       "  color: var(--sklearn-color-text-on-default-background);\n",
       "}\n",
       "\n",
       "/* On hover, darken the color of the background */\n",
       "#sk-container-id-1 div.sk-label:hover label.sk-toggleable__label {\n",
       "  color: var(--sklearn-color-text);\n",
       "  background-color: var(--sklearn-color-unfitted-level-2);\n",
       "}\n",
       "\n",
       "/* Label box, darken color on hover, fitted */\n",
       "#sk-container-id-1 div.sk-label.fitted:hover label.sk-toggleable__label.fitted {\n",
       "  color: var(--sklearn-color-text);\n",
       "  background-color: var(--sklearn-color-fitted-level-2);\n",
       "}\n",
       "\n",
       "/* Estimator label */\n",
       "\n",
       "#sk-container-id-1 div.sk-label label {\n",
       "  font-family: monospace;\n",
       "  font-weight: bold;\n",
       "  display: inline-block;\n",
       "  line-height: 1.2em;\n",
       "}\n",
       "\n",
       "#sk-container-id-1 div.sk-label-container {\n",
       "  text-align: center;\n",
       "}\n",
       "\n",
       "/* Estimator-specific */\n",
       "#sk-container-id-1 div.sk-estimator {\n",
       "  font-family: monospace;\n",
       "  border: 1px dotted var(--sklearn-color-border-box);\n",
       "  border-radius: 0.25em;\n",
       "  box-sizing: border-box;\n",
       "  margin-bottom: 0.5em;\n",
       "  /* unfitted */\n",
       "  background-color: var(--sklearn-color-unfitted-level-0);\n",
       "}\n",
       "\n",
       "#sk-container-id-1 div.sk-estimator.fitted {\n",
       "  /* fitted */\n",
       "  background-color: var(--sklearn-color-fitted-level-0);\n",
       "}\n",
       "\n",
       "/* on hover */\n",
       "#sk-container-id-1 div.sk-estimator:hover {\n",
       "  /* unfitted */\n",
       "  background-color: var(--sklearn-color-unfitted-level-2);\n",
       "}\n",
       "\n",
       "#sk-container-id-1 div.sk-estimator.fitted:hover {\n",
       "  /* fitted */\n",
       "  background-color: var(--sklearn-color-fitted-level-2);\n",
       "}\n",
       "\n",
       "/* Specification for estimator info (e.g. \"i\" and \"?\") */\n",
       "\n",
       "/* Common style for \"i\" and \"?\" */\n",
       "\n",
       ".sk-estimator-doc-link,\n",
       "a:link.sk-estimator-doc-link,\n",
       "a:visited.sk-estimator-doc-link {\n",
       "  float: right;\n",
       "  font-size: smaller;\n",
       "  line-height: 1em;\n",
       "  font-family: monospace;\n",
       "  background-color: var(--sklearn-color-background);\n",
       "  border-radius: 1em;\n",
       "  height: 1em;\n",
       "  width: 1em;\n",
       "  text-decoration: none !important;\n",
       "  margin-left: 0.5em;\n",
       "  text-align: center;\n",
       "  /* unfitted */\n",
       "  border: var(--sklearn-color-unfitted-level-1) 1pt solid;\n",
       "  color: var(--sklearn-color-unfitted-level-1);\n",
       "}\n",
       "\n",
       ".sk-estimator-doc-link.fitted,\n",
       "a:link.sk-estimator-doc-link.fitted,\n",
       "a:visited.sk-estimator-doc-link.fitted {\n",
       "  /* fitted */\n",
       "  border: var(--sklearn-color-fitted-level-1) 1pt solid;\n",
       "  color: var(--sklearn-color-fitted-level-1);\n",
       "}\n",
       "\n",
       "/* On hover */\n",
       "div.sk-estimator:hover .sk-estimator-doc-link:hover,\n",
       ".sk-estimator-doc-link:hover,\n",
       "div.sk-label-container:hover .sk-estimator-doc-link:hover,\n",
       ".sk-estimator-doc-link:hover {\n",
       "  /* unfitted */\n",
       "  background-color: var(--sklearn-color-unfitted-level-3);\n",
       "  color: var(--sklearn-color-background);\n",
       "  text-decoration: none;\n",
       "}\n",
       "\n",
       "div.sk-estimator.fitted:hover .sk-estimator-doc-link.fitted:hover,\n",
       ".sk-estimator-doc-link.fitted:hover,\n",
       "div.sk-label-container:hover .sk-estimator-doc-link.fitted:hover,\n",
       ".sk-estimator-doc-link.fitted:hover {\n",
       "  /* fitted */\n",
       "  background-color: var(--sklearn-color-fitted-level-3);\n",
       "  color: var(--sklearn-color-background);\n",
       "  text-decoration: none;\n",
       "}\n",
       "\n",
       "/* Span, style for the box shown on hovering the info icon */\n",
       ".sk-estimator-doc-link span {\n",
       "  display: none;\n",
       "  z-index: 9999;\n",
       "  position: relative;\n",
       "  font-weight: normal;\n",
       "  right: .2ex;\n",
       "  padding: .5ex;\n",
       "  margin: .5ex;\n",
       "  width: min-content;\n",
       "  min-width: 20ex;\n",
       "  max-width: 50ex;\n",
       "  color: var(--sklearn-color-text);\n",
       "  box-shadow: 2pt 2pt 4pt #999;\n",
       "  /* unfitted */\n",
       "  background: var(--sklearn-color-unfitted-level-0);\n",
       "  border: .5pt solid var(--sklearn-color-unfitted-level-3);\n",
       "}\n",
       "\n",
       ".sk-estimator-doc-link.fitted span {\n",
       "  /* fitted */\n",
       "  background: var(--sklearn-color-fitted-level-0);\n",
       "  border: var(--sklearn-color-fitted-level-3);\n",
       "}\n",
       "\n",
       ".sk-estimator-doc-link:hover span {\n",
       "  display: block;\n",
       "}\n",
       "\n",
       "/* \"?\"-specific style due to the `<a>` HTML tag */\n",
       "\n",
       "#sk-container-id-1 a.estimator_doc_link {\n",
       "  float: right;\n",
       "  font-size: 1rem;\n",
       "  line-height: 1em;\n",
       "  font-family: monospace;\n",
       "  background-color: var(--sklearn-color-background);\n",
       "  border-radius: 1rem;\n",
       "  height: 1rem;\n",
       "  width: 1rem;\n",
       "  text-decoration: none;\n",
       "  /* unfitted */\n",
       "  color: var(--sklearn-color-unfitted-level-1);\n",
       "  border: var(--sklearn-color-unfitted-level-1) 1pt solid;\n",
       "}\n",
       "\n",
       "#sk-container-id-1 a.estimator_doc_link.fitted {\n",
       "  /* fitted */\n",
       "  border: var(--sklearn-color-fitted-level-1) 1pt solid;\n",
       "  color: var(--sklearn-color-fitted-level-1);\n",
       "}\n",
       "\n",
       "/* On hover */\n",
       "#sk-container-id-1 a.estimator_doc_link:hover {\n",
       "  /* unfitted */\n",
       "  background-color: var(--sklearn-color-unfitted-level-3);\n",
       "  color: var(--sklearn-color-background);\n",
       "  text-decoration: none;\n",
       "}\n",
       "\n",
       "#sk-container-id-1 a.estimator_doc_link.fitted:hover {\n",
       "  /* fitted */\n",
       "  background-color: var(--sklearn-color-fitted-level-3);\n",
       "}\n",
       "</style><div id=\"sk-container-id-1\" class=\"sk-top-container\"><div class=\"sk-text-repr-fallback\"><pre>LogisticRegression(C=1.244692589464023)</pre><b>In a Jupyter environment, please rerun this cell to show the HTML representation or trust the notebook. <br />On GitHub, the HTML representation is unable to render, please try loading this page with nbviewer.org.</b></div><div class=\"sk-container\" hidden><div class=\"sk-item\"><div class=\"sk-estimator fitted sk-toggleable\"><input class=\"sk-toggleable__control sk-hidden--visually\" id=\"sk-estimator-id-1\" type=\"checkbox\" checked><label for=\"sk-estimator-id-1\" class=\"sk-toggleable__label fitted sk-toggleable__label-arrow\"><div><div>LogisticRegression</div></div><div><a class=\"sk-estimator-doc-link fitted\" rel=\"noreferrer\" target=\"_blank\" href=\"https://scikit-learn.org/1.6/modules/generated/sklearn.linear_model.LogisticRegression.html\">?<span>Documentation for LogisticRegression</span></a><span class=\"sk-estimator-doc-link fitted\">i<span>Fitted</span></span></div></label><div class=\"sk-toggleable__content fitted\"><pre>LogisticRegression(C=1.244692589464023)</pre></div> </div></div></div></div>"
      ],
      "text/plain": [
       "LogisticRegression(C=1.244692589464023)"
      ]
     },
     "execution_count": 21,
     "metadata": {},
     "output_type": "execute_result"
    }
   ],
   "source": [
    "model.fit(X_train, y)\n"
   ]
  },
  {
   "cell_type": "markdown",
   "id": "96f4a284",
   "metadata": {},
   "source": [
    "And we can see its performance"
   ]
  },
  {
   "cell_type": "code",
   "execution_count": 22,
   "id": "a96efee5",
   "metadata": {},
   "outputs": [
    {
     "name": "stdout",
     "output_type": "stream",
     "text": [
      "Mean AUC after 10-fold cross-validation: 0.90215\n"
     ]
    }
   ],
   "source": [
    "N = 10  \n",
    "kf = KFold(n_splits=N, shuffle=True, random_state=42)\n",
    "\n",
    "aucs = []\n",
    "\n",
    "\n",
    "for train_idx, val_idx in kf.split(X_train):\n",
    "    model.fit(X_train[train_idx], y[train_idx])\n",
    "    \n",
    "    preds_proba = model.predict_proba(X_train[val_idx])[:, 1]\n",
    "    \n",
    "    auc = roc_auc_score(y[val_idx], preds_proba)\n",
    "    aucs.append(auc)\n",
    "\n",
    "mean_auc = np.mean(aucs)\n",
    "print(f'Mean AUC after {N}-fold cross-validation: {mean_auc:.5f}')"
   ]
  },
  {
   "cell_type": "markdown",
   "id": "1aa7bec0",
   "metadata": {},
   "source": [
    "For more insights of the model's performance, here's the classification report"
   ]
  },
  {
   "cell_type": "code",
   "execution_count": 23,
   "id": "0b905950",
   "metadata": {},
   "outputs": [
    {
     "name": "stdout",
     "output_type": "stream",
     "text": [
      "\n",
      "Classification Report:\n",
      "              precision    recall  f1-score   support\n",
      "\n",
      "           0       0.76      0.33      0.46       180\n",
      "           1       0.96      0.99      0.98      3096\n",
      "\n",
      "    accuracy                           0.96      3276\n",
      "   macro avg       0.86      0.66      0.72      3276\n",
      "weighted avg       0.95      0.96      0.95      3276\n",
      "\n"
     ]
    }
   ],
   "source": [
    "from sklearn.metrics import classification_report, confusion_matrix, accuracy_score, roc_auc_score, roc_curve\n",
    "\n",
    "preds = (preds_proba >= 0.5).astype(int)\n",
    "\n",
    "\n",
    "\n",
    "print(\"\\nClassification Report:\")\n",
    "print(classification_report(y[val_idx], preds, zero_division=0))"
   ]
  },
  {
   "cell_type": "markdown",
   "id": "08ca3465",
   "metadata": {},
   "source": [
    "And down here the plots of the confusion matrix and the ROC curve"
   ]
  },
  {
   "cell_type": "code",
   "execution_count": 27,
   "id": "b64ba6bf",
   "metadata": {},
   "outputs": [
    {
     "data": {
      "image/png": "[encoded data removed]",
      "text/plain": [
       "<Figure size 800x600 with 2 Axes>"
      ]
     },
     "metadata": {},
     "output_type": "display_data"
    }
   ],
   "source": [
    "import matplotlib.pyplot as plt\n",
    "import seaborn as sns\n",
    "\n",
    "# Plot confusion matrix\n",
    "plt.figure(figsize=(8, 6))\n",
    "cm_best = confusion_matrix(y[val_idx], preds)\n",
    "sns.heatmap(cm_best, annot=True, fmt='d', cmap='Blues')\n",
    "plt.title('Confusion Matrix - fine-tuned Linear Regression model with Selected Features')\n",
    "plt.ylabel('True Label')\n",
    "plt.xlabel('Predicted Label')\n",
    "plt.show()"
   ]
  },
  {
   "cell_type": "code",
   "execution_count": 28,
   "id": "140e31ac",
   "metadata": {},
   "outputs": [
    {
     "data": {
      "image/png": "[encoded data removed]",
      "text/plain": [
       "<Figure size 800x600 with 1 Axes>"
      ]
     },
     "metadata": {},
     "output_type": "display_data"
    }
   ],
   "source": [
    "#plot AUC plot\n",
    "\n",
    "fpr_best, tpr_best, _ = roc_curve(y[val_idx], preds_proba)\n",
    "plt.figure(figsize=(8, 6))\n",
    "plt.plot(fpr_best, tpr_best, label=f'Logistic Regression (AUC = {roc_auc_score(y[val_idx], preds_proba):.4f})')\n",
    "plt.plot([0, 1], [0, 1], 'k--')\n",
    "plt.xlabel('False Positive Rate')\n",
    "plt.ylabel('True Positive Rate')\n",
    "plt.title('ROC Curve Comparison')\n",
    "plt.legend()\n",
    "plt.show()"
   ]
  },
  {
   "cell_type": "markdown",
   "id": "9720c725",
   "metadata": {},
   "source": [
    "**Exporting the best model**"
   ]
  },
  {
   "cell_type": "code",
   "execution_count": 48,
   "id": "8c1fdabe",
   "metadata": {},
   "outputs": [],
   "source": [
    "import pickle\n",
    "\n",
    "with open('../../models/classification task/logistic_regression.pkl', 'wb') as file:\n",
    "    pickle.dump(model, file)\n"
   ]
  },
  {
   "cell_type": "markdown",
   "id": "2b046cff",
   "metadata": {},
   "source": [
    "# Conclusion"
   ]
  },
  {
   "cell_type": "markdown",
   "id": "9096a579",
   "metadata": {},
   "source": [
    "The feature engineering tichnique to add new features and use gready search to select the best ones resulted in going from 0.86 to 0.90215 AUC score with 10-fold cross-validation test."
   ]
  }
 ],
 "metadata": {
  "kernelspec": {
   "display_name": "DM_ENV",
   "language": "python",
   "name": "python3"
  },
  "language_info": {
   "codemirror_mode": {
    "name": "ipython",
    "version": 3
   },
   "file_extension": ".py",
   "mimetype": "text/x-python",
   "name": "python",
   "nbconvert_exporter": "python",
   "pygments_lexer": "ipython3",
   "version": "3.11.10"
  }
 },
 "nbformat": 4,
 "nbformat_minor": 5
}
